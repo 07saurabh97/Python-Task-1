{
 "cells": [
  {
   "cell_type": "markdown",
   "id": "c8a72534-c296-4f0b-a668-d7f066ae28c1",
   "metadata": {},
   "source": [
    "Question 1. Create a function which will take a list as an argument and return the product of all the numbers\n",
    "after creating a flat list.\n",
    "Use the below-given list as an argument for your function.\n",
    "list1 = [1,2,3,4, [44,55,66, True], False, (34,56,78,89,34), {1,2,3,3,2,1}, {1:34, \"key2\": [55, 67, 78, 89], 4: (45,\n",
    "22, 61, 34)}, [56, 'data science'], 'Machine Learning']\n",
    "Note: you must extract numeric keys and values of the dictionary also."
   ]
  },
  {
   "cell_type": "code",
   "execution_count": 43,
   "id": "1d6535f7-5ebe-4793-8759-02e0c7ffd8c9",
   "metadata": {},
   "outputs": [
    {
     "name": "stdout",
     "output_type": "stream",
     "text": [
      "[1, 2, 3, 4, 44, 55, 66, True, False, 34, 56]\n"
     ]
    }
   ],
   "source": [
    "def extract_numbers_from_nested_list(input_list):\n",
    "    numbers = []\n",
    "\n",
    "    for item in input_list:\n",
    "        if isinstance(item, (int, float)):\n",
    "            numbers.append(item)\n",
    "        elif isinstance(item, list):\n",
    "            # If the item is a list, recursively extract numbers from it\n",
    "            numbers.extend(extract_numbers_from_nested_list(item))\n",
    "        elif isinstance(item, dict):\n",
    "            # If the item is a dictionary, extract numbers from its values\n",
    "            for value in item.values():\n",
    "                if isinstance(value, (int, float)):\n",
    "                    numbers.append(value)\n",
    "\n",
    "    return numbers\n",
    "\n",
    "# Example list\n",
    "list1 = [1, 2, 3, 4, [44, 55, 66, True], False, (34, 56, 78, 89, 34), {1, 2, 3, 3, 2, 1},\n",
    "         {1: 34, \"key2\": [55, 67, 78, 89], 4: (45, 22, 61, 34)}, [56, 'data science'], 'Machine Learning']\n",
    "\n",
    "numbers_only = extract_numbers_from_nested_list(list1)\n",
    "print(numbers_only)\n"
   ]
  },
  {
   "cell_type": "markdown",
   "id": "1e200202-e5fc-4c75-a2f7-a2519a57a0d5",
   "metadata": {},
   "source": [
    "Question 2. Write a python program for encrypting a message sent to you by your friend. The logic of encryption\n",
    "should be such that, for a the output should be z. For b, the output should be y. For c, the output should\n",
    "be x respectively. Also, the whitespace should be replaced with a dollar sign. Keep the punctuation\n",
    "marks unchanged.\n",
    "Input Sentence: I want to become a Data Scientist.\n",
    "Encrypt the above input sentence using the program you just created.\n",
    "Note: Convert the given input sentence into lowercase before encrypting. The final output should be\n",
    "lowercase."
   ]
  },
  {
   "cell_type": "code",
   "execution_count": 46,
   "id": "fd951991-7ebe-4e52-afd9-f8c21c33f386",
   "metadata": {},
   "outputs": [
    {
     "name": "stdout",
     "output_type": "stream",
     "text": [
      "r$dzmg$gl$yvxlnv$z$wzgz$hxrvmgrhg.$\n"
     ]
    }
   ],
   "source": [
    "def encrypt_message(message):\n",
    "    message = message.lower()\n",
    "    encrypted_message = ''\n",
    "    for char in message:\n",
    "        if char.isalpha():\n",
    "            encrypted_char = chr(219 - ord(char))\n",
    "            encrypted_message += encrypted_char\n",
    "        elif char == ' ':\n",
    "            encrypted_message += '$'\n",
    "        else:\n",
    "            encrypted_message += char\n",
    "    return encrypted_message\n",
    "\n",
    "input_sentence = \"I want to become a Data Scientist. \"\n",
    "encrypted_sentence = encrypt_message(input_sentence)\n",
    "print(encrypted_sentence)\n"
   ]
  }
 ],
 "metadata": {
  "kernelspec": {
   "display_name": "Python 3 (ipykernel)",
   "language": "python",
   "name": "python3"
  },
  "language_info": {
   "codemirror_mode": {
    "name": "ipython",
    "version": 3
   },
   "file_extension": ".py",
   "mimetype": "text/x-python",
   "name": "python",
   "nbconvert_exporter": "python",
   "pygments_lexer": "ipython3",
   "version": "3.10.8"
  }
 },
 "nbformat": 4,
 "nbformat_minor": 5
}
